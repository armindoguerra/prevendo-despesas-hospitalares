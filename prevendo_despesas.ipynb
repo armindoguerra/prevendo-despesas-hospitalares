{
 "cells": [
  {
   "cell_type": "code",
   "execution_count": 1,
   "metadata": {},
   "outputs": [
    {
     "data": {
      "text/html": [
       "<style>.container { width:100% !important; }</style>"
      ],
      "text/plain": [
       "<IPython.core.display.HTML object>"
      ]
     },
     "metadata": {},
     "output_type": "display_data"
    }
   ],
   "source": [
    "from IPython.core.display import display, HTML\n",
    "display(HTML(\"<style>.container { width:100% !important; }</style>\"))\n",
    "import warnings\n",
    "warnings.filterwarnings('ignore')\n",
    "\n",
    "import os\n",
    "import pandas as pd\n",
    "import numpy as np\n",
    "import matplotlib.pyplot as plt\n",
    "import seaborn as sns\n",
    "%matplotlib inline\n",
    "from sklearn.preprocessing import MinMaxScaler\n",
    "from sklearn.ensemble import RandomForestRegressor\n",
    "from sklearn.model_selection import GridSearchCV\n",
    "from sklearn import model_selection\n",
    "from sklearn import metrics\n",
    "from sklearn.metrics import r2_score\n",
    "import pickle"
   ]
  },
  {
   "cell_type": "code",
   "execution_count": 8,
   "metadata": {},
   "outputs": [],
   "source": [
    "def pred(list_):\n",
    "    \n",
    "    df = pd.read_csv('despesas.csv')\n",
    "    variaveis = df.columns\n",
    "\n",
    "    variaveis_num = []\n",
    "    variaveis_cat = []\n",
    "    for i in variaveis:\n",
    "        if (df[i].dtype == 'int64') or (df[i].dtype == 'float64'):\n",
    "            variaveis_num.append(i)\n",
    "        else:\n",
    "            variaveis_cat.append(i)\n",
    "\n",
    "    outlier_positive = df.gastos.mean() + (2*df.gastos.std())\n",
    "    outlier_negative = df.gastos.mean() - (2*df.gastos.std())\n",
    "\n",
    "    df_fumante = df[df.fumante == 'sim']\n",
    "    df_fumante.gastos = np.where(df_fumante.gastos > outlier_positive, df_fumante.gastos.median(), df_fumante.gastos)\n",
    "    df_nao_fumante = df[df.fumante == 'nao']\n",
    "    df_nao_fumante.gastos = np.where(df_nao_fumante.gastos > outlier_positive, df_nao_fumante.gastos.median(), df_nao_fumante.gastos)\n",
    "    df_new = pd.concat([df_fumante, df_nao_fumante])\n",
    "\n",
    "    from sklearn.preprocessing import LabelEncoder\n",
    "    from sklearn.pipeline import Pipeline\n",
    "\n",
    "    class MultiColumnLabelEncoder:\n",
    "        def __init__(self,columns = None):\n",
    "            self.columns = columns # array of column names to encode\n",
    "\n",
    "        def fit(self,X,y=None):\n",
    "            return self # not relevant here\n",
    "\n",
    "        def transform(self,X):\n",
    "            '''\n",
    "            Transforms columns of X specified in self.columns using\n",
    "            LabelEncoder(). If no columns specified, transforms all\n",
    "            columns in X.\n",
    "            '''\n",
    "            output = X.copy()\n",
    "            if self.columns is not None:\n",
    "                for col in self.columns:\n",
    "                    output[col] = LabelEncoder().fit_transform(output[col])\n",
    "            else:\n",
    "                for colname,col in output.iteritems():\n",
    "                    output[colname] = LabelEncoder().fit_transform(col)\n",
    "            return output\n",
    "\n",
    "        def fit_transform(self,X,y=None):\n",
    "\n",
    "            return self.fit(X,y).transform(X)\n",
    "\n",
    "    def bmi30(x):\n",
    "        if x > 30:\n",
    "            return 1\n",
    "        else:\n",
    "            return 0\n",
    "\n",
    "\n",
    "    def transform_dataset(df):\n",
    "\n",
    "        variaveis_num = []\n",
    "        variaveis_cat = []\n",
    "        for i in variaveis:\n",
    "            if (df[i].dtype == 'int64') or (df[i].dtype == 'float64'):\n",
    "                variaveis_num.append(i)\n",
    "            else:\n",
    "                variaveis_cat.append(i)\n",
    "\n",
    "        df_ = MultiColumnLabelEncoder(columns = variaveis_cat).fit_transform(df)\n",
    "\n",
    "        df_['idade2'] = df_['idade']*2\n",
    "        df_['bmi30'] = df.bmi.apply(lambda x: bmi30(x))\n",
    "\n",
    "        return df_\n",
    "\n",
    "    loaded_model = pickle.load(open('qualirede_model.sav', 'rb'))\n",
    "\n",
    "    df_prev = df.iloc[[0]]\n",
    "\n",
    "    df_prev.loc[:,['idade']] = list_[0]\n",
    "    df_prev.loc[:,['sexo']] = list_[1]\n",
    "    df_prev.loc[:,['bmi']] = list_[2]\n",
    "    df_prev.loc[:,['filhos']] = list_[3]\n",
    "    df_prev.loc[:,['fumante']] = list_[4]\n",
    "    df_prev.loc[:,['regiao']] = list_[5]\n",
    "    df_prev.loc[:,['gastos']] = np.nan\n",
    "\n",
    "    df_prev_ = df.append(df_prev, ignore_index=True)\n",
    "    df_prev_2 = transform_dataset(df_prev_)\n",
    "\n",
    "    X_pred = df_prev_2.loc[:,['idade', 'sexo', 'bmi', 'filhos', 'fumante', 'regiao', 'idade2', 'bmi30']].values\n",
    "    scaler = MinMaxScaler(feature_range = (0, 1))\n",
    "    X_scaled = scaler.fit_transform(X_pred)\n",
    "\n",
    "    value_pred = list(loaded_model.predict(X_scaled))[1338]\n",
    "    value_pred = int(value_pred)\n",
    "    print('\\nR$ {}\\n'.format(value_pred))"
   ]
  },
  {
   "cell_type": "code",
   "execution_count": 11,
   "metadata": {},
   "outputs": [],
   "source": [
    "idade = 20\n",
    "sexo = 'mulher'\n",
    "imc = 32.0\n",
    "filhos = 1\n",
    "fumante = 'nao'\n",
    "regiao = 'norte'\n",
    "\n",
    "list_ = [idade, sexo, imc, filhos, fumante, regiao]"
   ]
  },
  {
   "cell_type": "code",
   "execution_count": 12,
   "metadata": {},
   "outputs": [
    {
     "name": "stdout",
     "output_type": "stream",
     "text": [
      "\n",
      "R$ 5404\n",
      "\n"
     ]
    }
   ],
   "source": [
    "pred(list_)"
   ]
  },
  {
   "cell_type": "code",
   "execution_count": null,
   "metadata": {},
   "outputs": [],
   "source": []
  }
 ],
 "metadata": {
  "kernelspec": {
   "display_name": "Python 3",
   "language": "python",
   "name": "python3"
  },
  "language_info": {
   "codemirror_mode": {
    "name": "ipython",
    "version": 3
   },
   "file_extension": ".py",
   "mimetype": "text/x-python",
   "name": "python",
   "nbconvert_exporter": "python",
   "pygments_lexer": "ipython3",
   "version": "3.6.7"
  }
 },
 "nbformat": 4,
 "nbformat_minor": 2
}
