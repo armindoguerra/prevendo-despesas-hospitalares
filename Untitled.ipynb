{
 "cells": [
  {
   "cell_type": "code",
   "execution_count": 1,
   "metadata": {},
   "outputs": [
    {
     "data": {
      "text/html": [
       "<style>.container { width:100% !important; }</style>"
      ],
      "text/plain": [
       "<IPython.core.display.HTML object>"
      ]
     },
     "metadata": {},
     "output_type": "display_data"
    }
   ],
   "source": [
    "from IPython.core.display import display, HTML\n",
    "display(HTML(\"<style>.container { width:100% !important; }</style>\"))"
   ]
  },
  {
   "cell_type": "code",
   "execution_count": 4,
   "metadata": {},
   "outputs": [],
   "source": [
    "import os\n",
    "import pandas as pd\n",
    "import numpy as np\n",
    "import matplotlib.pyplot as plt\n",
    "import seaborn as sns\n",
    "%matplotlib inline"
   ]
  },
  {
   "cell_type": "code",
   "execution_count": 6,
   "metadata": {},
   "outputs": [
    {
     "data": {
      "text/plain": [
       "['.ipynb_checkpoints', 'despesas.csv', 'Untitled.ipynb']"
      ]
     },
     "execution_count": 6,
     "metadata": {},
     "output_type": "execute_result"
    }
   ],
   "source": [
    "os.listdir()"
   ]
  },
  {
   "cell_type": "code",
   "execution_count": 7,
   "metadata": {},
   "outputs": [],
   "source": [
    "df = pd.read_csv('despesas.csv')"
   ]
  },
  {
   "cell_type": "code",
   "execution_count": 8,
   "metadata": {},
   "outputs": [
    {
     "data": {
      "text/html": [
       "<div>\n",
       "<style scoped>\n",
       "    .dataframe tbody tr th:only-of-type {\n",
       "        vertical-align: middle;\n",
       "    }\n",
       "\n",
       "    .dataframe tbody tr th {\n",
       "        vertical-align: top;\n",
       "    }\n",
       "\n",
       "    .dataframe thead th {\n",
       "        text-align: right;\n",
       "    }\n",
       "</style>\n",
       "<table border=\"1\" class=\"dataframe\">\n",
       "  <thead>\n",
       "    <tr style=\"text-align: right;\">\n",
       "      <th></th>\n",
       "      <th>idade</th>\n",
       "      <th>sexo</th>\n",
       "      <th>bmi</th>\n",
       "      <th>filhos</th>\n",
       "      <th>fumante</th>\n",
       "      <th>regiao</th>\n",
       "      <th>gastos</th>\n",
       "    </tr>\n",
       "  </thead>\n",
       "  <tbody>\n",
       "    <tr>\n",
       "      <th>0</th>\n",
       "      <td>19</td>\n",
       "      <td>mulher</td>\n",
       "      <td>27.9</td>\n",
       "      <td>0</td>\n",
       "      <td>sim</td>\n",
       "      <td>sudeste</td>\n",
       "      <td>16884.92</td>\n",
       "    </tr>\n",
       "    <tr>\n",
       "      <th>1</th>\n",
       "      <td>18</td>\n",
       "      <td>homem</td>\n",
       "      <td>33.8</td>\n",
       "      <td>1</td>\n",
       "      <td>nao</td>\n",
       "      <td>sul</td>\n",
       "      <td>1725.55</td>\n",
       "    </tr>\n",
       "    <tr>\n",
       "      <th>2</th>\n",
       "      <td>28</td>\n",
       "      <td>homem</td>\n",
       "      <td>33.0</td>\n",
       "      <td>3</td>\n",
       "      <td>nao</td>\n",
       "      <td>sul</td>\n",
       "      <td>4449.46</td>\n",
       "    </tr>\n",
       "    <tr>\n",
       "      <th>3</th>\n",
       "      <td>33</td>\n",
       "      <td>homem</td>\n",
       "      <td>22.7</td>\n",
       "      <td>0</td>\n",
       "      <td>nao</td>\n",
       "      <td>nordeste</td>\n",
       "      <td>21984.47</td>\n",
       "    </tr>\n",
       "    <tr>\n",
       "      <th>4</th>\n",
       "      <td>32</td>\n",
       "      <td>homem</td>\n",
       "      <td>28.9</td>\n",
       "      <td>0</td>\n",
       "      <td>nao</td>\n",
       "      <td>nordeste</td>\n",
       "      <td>3866.86</td>\n",
       "    </tr>\n",
       "  </tbody>\n",
       "</table>\n",
       "</div>"
      ],
      "text/plain": [
       "   idade    sexo   bmi  filhos fumante    regiao    gastos\n",
       "0     19  mulher  27.9       0     sim   sudeste  16884.92\n",
       "1     18   homem  33.8       1     nao       sul   1725.55\n",
       "2     28   homem  33.0       3     nao       sul   4449.46\n",
       "3     33   homem  22.7       0     nao  nordeste  21984.47\n",
       "4     32   homem  28.9       0     nao  nordeste   3866.86"
      ]
     },
     "execution_count": 8,
     "metadata": {},
     "output_type": "execute_result"
    }
   ],
   "source": [
    "df.head()"
   ]
  },
  {
   "cell_type": "code",
   "execution_count": 9,
   "metadata": {},
   "outputs": [
    {
     "data": {
      "text/plain": [
       "count     1338.000000\n",
       "mean     13270.422414\n",
       "std      12110.011240\n",
       "min       1121.870000\n",
       "25%       4740.287500\n",
       "50%       9382.030000\n",
       "75%      16639.915000\n",
       "max      63770.430000\n",
       "Name: gastos, dtype: float64"
      ]
     },
     "execution_count": 9,
     "metadata": {},
     "output_type": "execute_result"
    }
   ],
   "source": [
    "df.gastos.describe()"
   ]
  },
  {
   "cell_type": "code",
   "execution_count": 31,
   "metadata": {},
   "outputs": [
    {
     "data": {
      "image/png": "[encoded data removed]",
      "text/plain": [
       "<Figure size 864x576 with 1 Axes>"
      ]
     },
     "metadata": {},
     "output_type": "display_data"
    }
   ],
   "source": [
    "sns.set(style=\"whitegrid\")\n",
    "fig, ax = plt.subplots()\n",
    "fig.set_size_inches(12,8)\n",
    "plt.hist(df[df.fumante == 'sim'].gastos, bins=30, color='green', alpha=0.6)\n",
    "plt.hist(df[df.fumante == 'nao'].gastos, bins=30, color='red', alpha=0.6)\n",
    "plt.show()"
   ]
  },
  {
   "cell_type": "code",
   "execution_count": 14,
   "metadata": {},
   "outputs": [
    {
     "data": {
      "image/png": "[encoded data removed]",
      "text/plain": [
       "<Figure size 432x288 with 1 Axes>"
      ]
     },
     "metadata": {},
     "output_type": "display_data"
    }
   ],
   "source": [
    "sns.set(style=\"whitegrid\")\n",
    "fig, ax = plt.subplots()\n",
    "#fig.set_size_inches(12,8)\n",
    "ax = sns.boxplot(x=df.gastos)"
   ]
  },
  {
   "cell_type": "code",
   "execution_count": 15,
   "metadata": {},
   "outputs": [
    {
     "data": {
      "image/png": "[encoded data removed]",
      "text/plain": [
       "<Figure size 432x288 with 1 Axes>"
      ]
     },
     "metadata": {},
     "output_type": "display_data"
    }
   ],
   "source": [
    "fig, ax = plt.subplots()\n",
    "#fig.set_size_inches(12,8)\n",
    "sns.set(style=\"whitegrid\")\n",
    "ax = sns.boxplot(x=df.gastos, y=df.regiao)"
   ]
  },
  {
   "cell_type": "code",
   "execution_count": 16,
   "metadata": {},
   "outputs": [
    {
     "data": {
      "image/png": "[encoded data removed]",
      "text/plain": [
       "<Figure size 432x288 with 1 Axes>"
      ]
     },
     "metadata": {},
     "output_type": "display_data"
    }
   ],
   "source": [
    "fig, ax = plt.subplots()\n",
    "#fig.set_size_inches(12,8)\n",
    "sns.set(style=\"white\")\n",
    "sns.set(style=\"whitegrid\")\n",
    "ax = sns.boxplot(x=df.gastos, y=df.fumante)"
   ]
  },
  {
   "cell_type": "code",
   "execution_count": 17,
   "metadata": {},
   "outputs": [
    {
     "data": {
      "image/png": "[encoded data removed]",
      "text/plain": [
       "<Figure size 432x288 with 1 Axes>"
      ]
     },
     "metadata": {},
     "output_type": "display_data"
    }
   ],
   "source": [
    "fig, ax = plt.subplots()\n",
    "#fig.set_size_inches(12,8)\n",
    "sns.set(style=\"white\")\n",
    "sns.set(style=\"whitegrid\")\n",
    "ax = sns.boxplot(x=df.gastos, y=df.sexo)"
   ]
  },
  {
   "cell_type": "code",
   "execution_count": 18,
   "metadata": {},
   "outputs": [
    {
     "data": {
      "image/png": "[encoded data removed]",
      "text/plain": [
       "<Figure size 432x288 with 1 Axes>"
      ]
     },
     "metadata": {},
     "output_type": "display_data"
    }
   ],
   "source": [
    "fig, ax = plt.subplots()\n",
    "#fig.set_size_inches(12,8)\n",
    "sns.set(style=\"whitegrid\")\n",
    "ax = sns.boxplot(x=\"gastos\", \n",
    "                 y=\"fumante\", \n",
    "                 hue=\"sexo\", \n",
    "                 data=df, \n",
    "                 linewidth=1.5)"
   ]
  },
  {
   "cell_type": "code",
   "execution_count": 22,
   "metadata": {},
   "outputs": [],
   "source": [
    "outlier_positive = df.gastos.mean() + (2*df.gastos.std())\n",
    "outlier_negative = df.gastos.mean() - (2*df.gastos.std())"
   ]
  },
  {
   "cell_type": "code",
   "execution_count": 23,
   "metadata": {},
   "outputs": [
    {
     "name": "stdout",
     "output_type": "stream",
     "text": [
      "Outliers representam: 26.46 % da base\n"
     ]
    }
   ],
   "source": [
    "print('Outliers representam:',round((df[df.gastos > outlier_positive].gastos.sum() / df.gastos.sum())*100,2), '% da base')"
   ]
  },
  {
   "cell_type": "code",
   "execution_count": 21,
   "metadata": {},
   "outputs": [
    {
     "data": {
      "text/plain": [
       "count     1338.000000\n",
       "mean     13270.422414\n",
       "std      12110.011240\n",
       "min       1121.870000\n",
       "25%       4740.287500\n",
       "50%       9382.030000\n",
       "75%      16639.915000\n",
       "max      63770.430000\n",
       "Name: gastos, dtype: float64"
      ]
     },
     "execution_count": 21,
     "metadata": {},
     "output_type": "execute_result"
    }
   ],
   "source": [
    "df.gastos.describe()"
   ]
  },
  {
   "cell_type": "code",
   "execution_count": 32,
   "metadata": {},
   "outputs": [],
   "source": [
    "df_norm = df[(df.gastos <= outlier_positive)] "
   ]
  },
  {
   "cell_type": "code",
   "execution_count": 33,
   "metadata": {},
   "outputs": [],
   "source": [
    "# Function to calculate missing values by column (By DSA)\n",
    "def missing_values_table(df):\n",
    "\n",
    "    mis_val = df.isnull().sum()\n",
    "    mis_val_percent = 100 * df.isnull().sum() / len(df)\n",
    "    mis_val_table = pd.concat([mis_val, mis_val_percent], axis=1)\n",
    "    mis_val_table_ren_columns = mis_val_table.rename(columns = {0 : 'Missing Values', 1 : '% of Total Values'})\n",
    "    mis_val_table_ren_columns = mis_val_table_ren_columns[mis_val_table_ren_columns.iloc[:,1] != 0].sort_values('% of Total Values', ascending=False).round(1)\n",
    "    print (\"Your selected dataframe has \" + str(df.shape[1]) + \" columns.\\n\"  \"There are \" + str(mis_val_table_ren_columns.shape[0]) + \" columns that have missing values.\\n\")\n",
    "    \n",
    "    if mis_val_table_ren_columns.shape[0] > 0:\n",
    "        return mis_val_table_ren_columns"
   ]
  },
  {
   "cell_type": "code",
   "execution_count": 34,
   "metadata": {},
   "outputs": [
    {
     "name": "stdout",
     "output_type": "stream",
     "text": [
      "Your selected dataframe has 7 columns.\n",
      "There are 0 columns that have missing values.\n",
      "\n"
     ]
    }
   ],
   "source": [
    "missing_values_table(df)"
   ]
  },
  {
   "cell_type": "code",
   "execution_count": 37,
   "metadata": {},
   "outputs": [
    {
     "data": {
      "image/png": "[encoded data removed]",
      "text/plain": [
       "<Figure size 432x288 with 1 Axes>"
      ]
     },
     "metadata": {},
     "output_type": "display_data"
    }
   ],
   "source": [
    "plt.hist(df_norm.gastos)\n",
    "plt.show()"
   ]
  },
  {
   "cell_type": "code",
   "execution_count": 41,
   "metadata": {},
   "outputs": [
    {
     "data": {
      "text/plain": [
       "<matplotlib.axes._subplots.AxesSubplot at 0x7fb27cb91e48>"
      ]
     },
     "execution_count": 41,
     "metadata": {},
     "output_type": "execute_result"
    },
    {
     "data": {
      "image/png": "[encoded data removed]",
      "text/plain": [
       "<Figure size 720x720 with 2 Axes>"
      ]
     },
     "metadata": {},
     "output_type": "display_data"
    }
   ],
   "source": [
    "# Compute the correlation matrix\n",
    "corr = df.corr()\n",
    "\n",
    "# Set up the matplotlib figure\n",
    "f, ax = plt.subplots(figsize=(10, 10))\n",
    "\n",
    "# Generate a custom diverging colormap\n",
    "cmap = sns.diverging_palette(220, 10, as_cmap=True)\n",
    "\n",
    "# Draw the heatmap with the mask and correct aspect ratio\n",
    "sns.heatmap(corr, cmap=cmap, vmax=1, vmin=-1, center=0, square=True, linewidths=.5, cbar_kws={\"shrink\": .5}, annot = True)"
   ]
  },
  {
   "cell_type": "code",
   "execution_count": 46,
   "metadata": {},
   "outputs": [
    {
     "name": "stdout",
     "output_type": "stream",
     "text": [
      "<class 'pandas.core.frame.DataFrame'>\n",
      "RangeIndex: 1338 entries, 0 to 1337\n",
      "Data columns (total 7 columns):\n",
      "idade      1338 non-null int64\n",
      "sexo       1338 non-null object\n",
      "bmi        1338 non-null float64\n",
      "filhos     1338 non-null int64\n",
      "fumante    1338 non-null object\n",
      "regiao     1338 non-null object\n",
      "gastos     1338 non-null float64\n",
      "dtypes: float64(2), int64(2), object(3)\n",
      "memory usage: 73.3+ KB\n"
     ]
    },
    {
     "data": {
      "text/plain": [
       "False"
      ]
     },
     "execution_count": 46,
     "metadata": {},
     "output_type": "execute_result"
    }
   ],
   "source": [
    "df.info() == 'float64'"
   ]
  },
  {
   "cell_type": "code",
   "execution_count": 50,
   "metadata": {},
   "outputs": [],
   "source": [
    "variaveis = (df.columns)"
   ]
  },
  {
   "cell_type": "code",
   "execution_count": 53,
   "metadata": {},
   "outputs": [],
   "source": [
    "variaveis_num = []\n",
    "variaveis_cat = []\n",
    "for i in variaveis:\n",
    "    if (df[i].dtype == 'int64') or (df[i].dtype == 'float64'):\n",
    "        variaveis_num.append(i)\n",
    "    else:\n",
    "        variaveis_cat.append(i)"
   ]
  },
  {
   "cell_type": "code",
   "execution_count": 54,
   "metadata": {},
   "outputs": [
    {
     "data": {
      "text/plain": [
       "['idade', 'bmi', 'filhos', 'gastos']"
      ]
     },
     "execution_count": 54,
     "metadata": {},
     "output_type": "execute_result"
    }
   ],
   "source": [
    "variaveis_num"
   ]
  },
  {
   "cell_type": "code",
   "execution_count": 55,
   "metadata": {},
   "outputs": [
    {
     "data": {
      "text/plain": [
       "['sexo', 'fumante', 'regiao']"
      ]
     },
     "execution_count": 55,
     "metadata": {},
     "output_type": "execute_result"
    }
   ],
   "source": [
    "variaveis_cat"
   ]
  },
  {
   "cell_type": "code",
   "execution_count": 63,
   "metadata": {},
   "outputs": [
    {
     "name": "stdout",
     "output_type": "stream",
     "text": [
      "- sexo -\n",
      "homem     676\n",
      "mulher    662\n",
      "Name: sexo, dtype: int64\n",
      "\n",
      "\n",
      "- fumante -\n",
      "nao    1064\n",
      "sim     274\n",
      "Name: fumante, dtype: int64\n",
      "\n",
      "\n",
      "- regiao -\n",
      "sul         364\n",
      "sudeste     325\n",
      "nordeste    325\n",
      "norte       324\n",
      "Name: regiao, dtype: int64\n",
      "\n",
      "\n"
     ]
    }
   ],
   "source": [
    "for i in variaveis_cat:\n",
    "    print('-',i,'-')\n",
    "    print(df[i].value_counts().head(10))\n",
    "    print('\\n')"
   ]
  },
  {
   "cell_type": "code",
   "execution_count": 64,
   "metadata": {},
   "outputs": [
    {
     "name": "stdout",
     "output_type": "stream",
     "text": [
      "- idade -\n",
      "count    1338.000000\n",
      "mean       39.207025\n",
      "std        14.049960\n",
      "min        18.000000\n",
      "25%        27.000000\n",
      "50%        39.000000\n",
      "75%        51.000000\n",
      "max        64.000000\n",
      "Name: idade, dtype: float64\n",
      "\n",
      "\n",
      "- bmi -\n",
      "count    1338.000000\n",
      "mean       30.665471\n",
      "std         6.098382\n",
      "min        16.000000\n",
      "25%        26.300000\n",
      "50%        30.400000\n",
      "75%        34.700000\n",
      "max        53.100000\n",
      "Name: bmi, dtype: float64\n",
      "\n",
      "\n",
      "- filhos -\n",
      "count    1338.000000\n",
      "mean        1.094918\n",
      "std         1.205493\n",
      "min         0.000000\n",
      "25%         0.000000\n",
      "50%         1.000000\n",
      "75%         2.000000\n",
      "max         5.000000\n",
      "Name: filhos, dtype: float64\n",
      "\n",
      "\n",
      "- gastos -\n",
      "count     1338.000000\n",
      "mean     13270.422414\n",
      "std      12110.011240\n",
      "min       1121.870000\n",
      "25%       4740.287500\n",
      "50%       9382.030000\n",
      "75%      16639.915000\n",
      "max      63770.430000\n",
      "Name: gastos, dtype: float64\n",
      "\n",
      "\n"
     ]
    }
   ],
   "source": [
    "for i in variaveis_num:\n",
    "    print('-',i,'-')\n",
    "    print(df[i].describe())\n",
    "    print('\\n')"
   ]
  },
  {
   "cell_type": "code",
   "execution_count": 65,
   "metadata": {},
   "outputs": [],
   "source": [
    "df_old = df"
   ]
  },
  {
   "cell_type": "code",
   "execution_count": 75,
   "metadata": {},
   "outputs": [
    {
     "name": "stderr",
     "output_type": "stream",
     "text": [
      "/home/armindo/anaconda3/envs/qualirede2/lib/python3.6/site-packages/pandas/core/generic.py:5208: SettingWithCopyWarning: \n",
      "A value is trying to be set on a copy of a slice from a DataFrame.\n",
      "Try using .loc[row_indexer,col_indexer] = value instead\n",
      "\n",
      "See the caveats in the documentation: http://pandas.pydata.org/pandas-docs/stable/user_guide/indexing.html#returning-a-view-versus-a-copy\n",
      "  self[name] = value\n"
     ]
    }
   ],
   "source": [
    "df_fumante = df[df.fumante == 'sim']\n",
    "df_fumante.gastos = np.where(df_fumante.gastos > outlier_positive, df_fumante.gastos.median(), df_fumante.gastos)"
   ]
  },
  {
   "cell_type": "code",
   "execution_count": 76,
   "metadata": {},
   "outputs": [],
   "source": [
    "df_nao_fumante = df[df.fumante == 'nao']\n",
    "df_nao_fumante.gastos = np.where(df_nao_fumante.gastos > outlier_positive, df_nao_fumante.gastos.median(), df_nao_fumante.gastos)"
   ]
  },
  {
   "cell_type": "code",
   "execution_count": 77,
   "metadata": {},
   "outputs": [],
   "source": [
    "df_new = pd.concat([df_fumante, df_nao_fumante])"
   ]
  },
  {
   "cell_type": "code",
   "execution_count": 78,
   "metadata": {},
   "outputs": [
    {
     "data": {
      "text/plain": [
       "(array([339., 260., 248., 142.,  61.,  58.,  44.,  27.,  13., 146.]),\n",
       " array([ 1121.87 ,  4758.128,  8394.386, 12030.644, 15666.902, 19303.16 ,\n",
       "        22939.418, 26575.676, 30211.934, 33848.192, 37484.45 ]),\n",
       " <a list of 10 Patch objects>)"
      ]
     },
     "execution_count": 78,
     "metadata": {},
     "output_type": "execute_result"
    },
    {
     "data": {
      "image/png": "[encoded data removed]",
      "text/plain": [
       "<Figure size 432x288 with 1 Axes>"
      ]
     },
     "metadata": {},
     "output_type": "display_data"
    }
   ],
   "source": [
    "plt.hist(df_new.gastos)"
   ]
  },
  {
   "cell_type": "code",
   "execution_count": null,
   "metadata": {},
   "outputs": [],
   "source": []
  }
 ],
 "metadata": {
  "kernelspec": {
   "display_name": "Python 3",
   "language": "python",
   "name": "python3"
  },
  "language_info": {
   "codemirror_mode": {
    "name": "ipython",
    "version": 3
   },
   "file_extension": ".py",
   "mimetype": "text/x-python",
   "name": "python",
   "nbconvert_exporter": "python",
   "pygments_lexer": "ipython3",
   "version": "3.6.7"
  }
 },
 "nbformat": 4,
 "nbformat_minor": 2
}
